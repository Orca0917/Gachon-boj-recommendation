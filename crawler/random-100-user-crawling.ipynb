{
 "cells": [
  {
   "cell_type": "code",
   "execution_count": 2,
   "metadata": {},
   "outputs": [],
   "source": [
    "# B5 ~ M\n",
    "# Bronze, Silver, Gold, Platinum, Diamon, Ruby, Master(1) => 31 classes"
   ]
  },
  {
   "cell_type": "code",
   "execution_count": 1,
   "metadata": {},
   "outputs": [],
   "source": [
    "tier_page = {\n",
    "    '31': 1, # master\n",
    "    '30': 1, # ruby 1\n",
    "    '29': 1, # ruby 2\n",
    "    '28': 1, # ruby 3\n",
    "    '27': 2, # ruby 4\n",
    "    '26': 2, # ruby 5\n",
    "    '25': 3, # diamond 1\n",
    "    '24': 5, # diamond 2\n",
    "    '23': 7, # diamond 3\n",
    "    '22': 10, # diamond 4\n",
    "    '21': 14, # diamond 5\n",
    "    '20': 21, # platinum 1\n",
    "    '19': 27, # platinum 2\n",
    "    '18': 35, # platinum 3\n",
    "    '17': 47, # platinum 4\n",
    "    '16': 79, # platinum 5\n",
    "    '15': 140, # gold 1\n",
    "    '14': 300, # gold 2\n",
    "    '13': 400, # gold 3\n",
    "    '12': 500, # gold 4\n",
    "    '11': 700, # gold 5\n",
    "    '10': 800, # silver 1\n",
    "    '9': 1000, # silver 2\n",
    "    '8': 1100, # silver 3\n",
    "    '7': 1200, # silver 4\n",
    "    '6': 1400, # silver 5\n",
    "    '5': 1800, # bronze 1\n",
    "    '4': 1900, # bronze 2\n",
    "    '3': 2000, # bronze 3\n",
    "    '2': 2100, # bronze 4\n",
    "    '1': 2200, # bronze 5\n",
    "}"
   ]
  },
  {
   "cell_type": "code",
   "execution_count": 2,
   "metadata": {},
   "outputs": [],
   "source": [
    "# selenium의 webdriver를 사용하기 위한 import\n",
    "from selenium import webdriver\n",
    "\n",
    "# selenium으로 키를 조작하기 위한 import\n",
    "from selenium.webdriver.common.keys import Keys\n",
    "from selenium.webdriver.common.by import By\n",
    "\n",
    "# 페이지 로딩을 기다리는데에 사용할 time 모듈 import\n",
    "import time\n",
    "from tqdm.notebook import tqdm\n",
    "import pandas as pd"
   ]
  },
  {
   "cell_type": "code",
   "execution_count": 3,
   "metadata": {},
   "outputs": [],
   "source": [
    "# 크롬드라이버 옵션 (창 안보이게 숨기기)\n",
    "driver_option = webdriver.ChromeOptions()\n",
    "driver_option.add_argument('headless')"
   ]
  },
  {
   "cell_type": "code",
   "execution_count": 6,
   "metadata": {},
   "outputs": [
    {
     "data": {
      "application/vnd.jupyter.widget-view+json": {
       "model_id": "3c3c69c511c64f5cab1f7495069082aa",
       "version_major": 2,
       "version_minor": 0
      },
      "text/plain": [
       "  0%|          | 0/31 [00:00<?, ?it/s]"
      ]
     },
     "metadata": {},
     "output_type": "display_data"
    },
    {
     "ename": "KeyboardInterrupt",
     "evalue": "",
     "output_type": "error",
     "traceback": [
      "\u001b[0;31m---------------------------------------------------------------------------\u001b[0m",
      "\u001b[0;31mKeyboardInterrupt\u001b[0m                         Traceback (most recent call last)",
      "\u001b[1;32m/Users/moon/Library/CloudStorage/GoogleDrive-0917jong@gmail.com/내 드라이브/Gachon-Univ/2학기/머신러닝/Machine-Learning-PyCharm/Term project/crawler/random-100-user-crawling.ipynb 셀 5\u001b[0m line \u001b[0;36m2\n\u001b[1;32m     <a href='vscode-notebook-cell:/Users/moon/Library/CloudStorage/GoogleDrive-0917jong%40gmail.com/%EB%82%B4%20%EB%93%9C%EB%9D%BC%EC%9D%B4%EB%B8%8C/Gachon-Univ/2%ED%95%99%EA%B8%B0/%EB%A8%B8%EC%8B%A0%EB%9F%AC%EB%8B%9D/Machine-Learning-PyCharm/Term%20project/crawler/random-100-user-crawling.ipynb#W4sZmlsZQ%3D%3D?line=17'>18</a>\u001b[0m \u001b[39mwhile\u001b[39;00m \u001b[39mTrue\u001b[39;00m:\n\u001b[1;32m     <a href='vscode-notebook-cell:/Users/moon/Library/CloudStorage/GoogleDrive-0917jong%40gmail.com/%EB%82%B4%20%EB%93%9C%EB%9D%BC%EC%9D%B4%EB%B8%8C/Gachon-Univ/2%ED%95%99%EA%B8%B0/%EB%A8%B8%EC%8B%A0%EB%9F%AC%EB%8B%9D/Machine-Learning-PyCharm/Term%20project/crawler/random-100-user-crawling.ipynb#W4sZmlsZQ%3D%3D?line=19'>20</a>\u001b[0m     driver\u001b[39m.\u001b[39mget(\u001b[39mf\u001b[39m\u001b[39m'\u001b[39m\u001b[39mhttps://solved.ac/ranking/tier?page=\u001b[39m\u001b[39m{\u001b[39;00mpage\u001b[39m}\u001b[39;00m\u001b[39m'\u001b[39m)\n\u001b[0;32m---> <a href='vscode-notebook-cell:/Users/moon/Library/CloudStorage/GoogleDrive-0917jong%40gmail.com/%EB%82%B4%20%EB%93%9C%EB%9D%BC%EC%9D%B4%EB%B8%8C/Gachon-Univ/2%ED%95%99%EA%B8%B0/%EB%A8%B8%EC%8B%A0%EB%9F%AC%EB%8B%9D/Machine-Learning-PyCharm/Term%20project/crawler/random-100-user-crawling.ipynb#W4sZmlsZQ%3D%3D?line=20'>21</a>\u001b[0m     time\u001b[39m.\u001b[39;49msleep(\u001b[39m3\u001b[39;49m)\n\u001b[1;32m     <a href='vscode-notebook-cell:/Users/moon/Library/CloudStorage/GoogleDrive-0917jong%40gmail.com/%EB%82%B4%20%EB%93%9C%EB%9D%BC%EC%9D%B4%EB%B8%8C/Gachon-Univ/2%ED%95%99%EA%B8%B0/%EB%A8%B8%EC%8B%A0%EB%9F%AC%EB%8B%9D/Machine-Learning-PyCharm/Term%20project/crawler/random-100-user-crawling.ipynb#W4sZmlsZQ%3D%3D?line=22'>23</a>\u001b[0m     user_name_list \u001b[39m=\u001b[39m driver\u001b[39m.\u001b[39mfind_elements(by\u001b[39m=\u001b[39mBy\u001b[39m.\u001b[39mCSS_SELECTOR, value\u001b[39m=\u001b[39m\u001b[39m'\u001b[39m\u001b[39mspan > a > b\u001b[39m\u001b[39m'\u001b[39m)\n\u001b[1;32m     <a href='vscode-notebook-cell:/Users/moon/Library/CloudStorage/GoogleDrive-0917jong%40gmail.com/%EB%82%B4%20%EB%93%9C%EB%9D%BC%EC%9D%B4%EB%B8%8C/Gachon-Univ/2%ED%95%99%EA%B8%B0/%EB%A8%B8%EC%8B%A0%EB%9F%AC%EB%8B%9D/Machine-Learning-PyCharm/Term%20project/crawler/random-100-user-crawling.ipynb#W4sZmlsZQ%3D%3D?line=23'>24</a>\u001b[0m     user_tier_list \u001b[39m=\u001b[39m driver\u001b[39m.\u001b[39mfind_elements(by\u001b[39m=\u001b[39mBy\u001b[39m.\u001b[39mXPATH, value\u001b[39m=\u001b[39m\u001b[39m'\u001b[39m\u001b[39m//*[@id=\u001b[39m\u001b[39m\"\u001b[39m\u001b[39m__next\u001b[39m\u001b[39m\"\u001b[39m\u001b[39m]/div[5]/div[1]/table/tbody/tr/td[2]/span/a/img[1]\u001b[39m\u001b[39m'\u001b[39m)\n",
      "\u001b[0;31mKeyboardInterrupt\u001b[0m: "
     ]
    }
   ],
   "source": [
    "try:\n",
    "    # 크롬드라이버 실행\n",
    "    driver = webdriver.Chrome(options=driver_option) \n",
    "    driver.implicitly_wait(3)\n",
    "\n",
    "    crawled_300_user_by_tier = []\n",
    "\n",
    "    COUNT = 300\n",
    "\n",
    "    tqdm_bar = tqdm(range(31, 0, -1))\n",
    "    for tier in tqdm_bar:\n",
    "\n",
    "        tier_str = str(tier)\n",
    "        start_page = tier_page[tier_str]\n",
    "\n",
    "        tier_cnt = 0\n",
    "        page = start_page\n",
    "        while True:\n",
    "\n",
    "            driver.get(f'https://solved.ac/ranking/tier?page={page}')\n",
    "            time.sleep(3)\n",
    "\n",
    "            user_name_list = driver.find_elements(by=By.CSS_SELECTOR, value='span > a > b')\n",
    "            user_tier_list = driver.find_elements(by=By.XPATH, value='//*[@id=\"__next\"]/div[5]/div[1]/table/tbody/tr/td[2]/span/a/img[1]')\n",
    "\n",
    "            user_name_list = [user_name.text for user_name in user_name_list]\n",
    "            user_tier_list = [user_tier.get_attribute('src')[:-4].split(\"/\")[-1] for user_tier in user_tier_list]\n",
    "\n",
    "            # 더 이상 크롤링 할 필요 X\n",
    "            if int(user_tier_list[0]) < int(tier_str):\n",
    "                break\n",
    "\n",
    "            for cur_name, cur_tier in zip(user_name_list, user_tier_list):\n",
    "                if cur_tier == tier_str and tier_cnt < COUNT:\n",
    "                    tier_cnt += 1\n",
    "                    tqdm_bar.set_postfix(tier=tier_str, page=page, counts=tier_cnt, refresh=True)\n",
    "                    crawled_300_user_by_tier.append([cur_tier, cur_name])\n",
    "\n",
    "            # 300명 완료\n",
    "            if tier_cnt == COUNT:\n",
    "                break\n",
    "\n",
    "            page += 1\n",
    "finally:\n",
    "    print(\"Chrome driver가 정상적으로 종료되었습니다.\")\n",
    "    driver.quit()\n",
    "\n",
    "\n",
    "print(crawled_300_user_by_tier[:5])\n",
    "\n",
    "\n",
    "# -- csv 파일로 저장\n",
    "column_name = ['tier', 'userId']\n",
    "gachon_user_df = pd.DataFrame(data=crawled_300_user_by_tier, columns=column_name)\n",
    "gachon_user_df.to_csv(\"./random_300_user_crawling.csv\", index=False)"
   ]
  },
  {
   "cell_type": "code",
   "execution_count": null,
   "metadata": {},
   "outputs": [],
   "source": []
  }
 ],
 "metadata": {
  "kernelspec": {
   "display_name": "Machine-Learning-PyCharm",
   "language": "python",
   "name": "python3"
  },
  "language_info": {
   "codemirror_mode": {
    "name": "ipython",
    "version": 3
   },
   "file_extension": ".py",
   "mimetype": "text/x-python",
   "name": "python",
   "nbconvert_exporter": "python",
   "pygments_lexer": "ipython3",
   "version": "3.8.17"
  }
 },
 "nbformat": 4,
 "nbformat_minor": 2
}
