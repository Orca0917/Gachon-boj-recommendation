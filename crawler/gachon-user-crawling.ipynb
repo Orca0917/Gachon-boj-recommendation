{
 "cells": [
  {
   "cell_type": "markdown",
   "metadata": {},
   "source": [
    "### BOJ 문제 목록 크롤링\n",
    "\n",
    "백준 온라인 저지[https://www.acmicpc.net/](https://www.acmicpc.net/)에 존재하는 약 30,000개의 문제 정보를 크롤링하는 코드입니다.  \n",
    "크롤링할 대상은 아래와 같습니다.  크롤링하기 위해서는 selenium 패키지 설치가 필요하며, `pip install selenium` 을 통해 바로 설치할 수 있습니다.\n",
    "\n",
    "1. (번호) 문제 번호\n",
    "2. (제출) 문제에 제출된 답안의 횟수\n",
    "3. (정답) 정답을 맞춘 답안의 수\n",
    "4. (맞힌 사람) 문제를 맞춘 사람의 수\n",
    "5. (정답 비율) 문제의 정답률\n",
    "6. (난이도) Solved.ac에서 제공하는 문제의 난이도"
   ]
  },
  {
   "cell_type": "code",
   "execution_count": 1,
   "metadata": {},
   "outputs": [],
   "source": [
    "# selenium의 webdriver를 사용하기 위한 import\n",
    "from selenium import webdriver\n",
    "\n",
    "# selenium으로 키를 조작하기 위한 import\n",
    "from selenium.webdriver.common.keys import Keys\n",
    "from selenium.webdriver.common.by import By\n",
    "\n",
    "# 페이지 로딩을 기다리는데에 사용할 time 모듈 import\n",
    "import time\n",
    "from tqdm import tqdm\n",
    "import pandas as pd"
   ]
  },
  {
   "cell_type": "code",
   "execution_count": 2,
   "metadata": {},
   "outputs": [],
   "source": [
    "# 크롬드라이버 옵션 (창 안보이게 숨기기)\n",
    "driver_option = webdriver.ChromeOptions()\n",
    "# driver_option.add_argument('headless')"
   ]
  },
  {
   "cell_type": "markdown",
   "metadata": {},
   "source": [
    "### [1] 문제 정보 크롤링 (5가지 feature)\n",
    "\n",
    "- problemId\n",
    "- problemTitle\n",
    "- solved\n",
    "- submissionCount\n",
    "- correcRatio"
   ]
  },
  {
   "cell_type": "code",
   "execution_count": null,
   "metadata": {},
   "outputs": [],
   "source": [
    "# 크롬드라이버 실행\n",
    "driver = webdriver.Chrome(options=driver_option) \n",
    "driver.implicitly_wait(3)\n",
    "\n",
    "interaction = []\n",
    "\n",
    "driver.get('https://www.acmicpc.net/school/ranklist/187')\n",
    "time.sleep(3)\n",
    "\n",
    "page_elem = driver.find_elements(by=By.XPATH, value=\"(//ul[@class='pagination']/li/a)[position()>1]\")\n",
    "MAX_PAGE = max([int(elem.get_attribute('href').split(\"/\")[-1]) for elem in page_elem])\n",
    "\n",
    "\n",
    "for page in tqdm(range(MAX_PAGE)):\n",
    "    driver.get(f'https://www.acmicpc.net/school/ranklist/187/{page + 1}')\n",
    "\n",
    "    # 페이지가 완전히 로딩되도록 3초동안 기다림\n",
    "    time.sleep(3)\n",
    "\n",
    "    gachon_user_elem = driver.find_elements(by=By.CSS_SELECTOR, value='#ranklist > tbody > tr > td:nth-child(2) > a')\n",
    "    user_list = [user_elem.get_attribute('href').split(\"/\")[-1] for user_elem in gachon_user_elem] # 현재 page의 가천대학교 학생 목록\n",
    "\n",
    "    pbar = tqdm(user_list, leave=False)\n",
    "    for user_name in pbar:\n",
    "        driver.get(f'https://www.acmicpc.net/user/{user_name}')  # 백준 유저 정보 페이지 접속\n",
    "        time.sleep(3)\n",
    "\n",
    "        # -- 유저가 해결한 문제\n",
    "        solved_problems = driver.find_elements(by=By.XPATH, value=\"//div[contains(@class, 'panel') and contains(@class, 'panel-default') and .//h3[contains(text(), '맞은 문제')]]//a\")\n",
    "        pbar.set_postfix_str(f'userName: {user_name}, num solved: {len(solved_problems)}')\n",
    "        for solved in solved_problems:\n",
    "            interaction.append([user_name, solved.text, 1])\n",
    "\n",
    "\n",
    "    time.sleep(3)\n",
    "\n",
    "driver.quit()\n",
    "\n",
    "# -- csv 파일로 저장\n",
    "column_name = ['userName', 'problemId', 'solved']\n",
    "gachon_user_df = pd.DataFrame(data=interaction, columns=column_name)\n",
    "gachon_user_df.to_csv(\"./gachon_user_information.csv\", index=False)"
   ]
  },
  {
   "cell_type": "code",
   "execution_count": 7,
   "metadata": {},
   "outputs": [
    {
     "data": {
      "application/vnd.jupyter.widget-view+json": {
       "model_id": "a084ee1f08c14a3e92ec828ebc817d86",
       "version_major": 2,
       "version_minor": 0
      },
      "text/plain": [
       "  0%|          | 0/7 [00:00<?, ?it/s]"
      ]
     },
     "metadata": {},
     "output_type": "display_data"
    },
    {
     "data": {
      "application/vnd.jupyter.widget-view+json": {
       "model_id": "e37da22e77bd4fb4ae117d4efa3bc279",
       "version_major": 2,
       "version_minor": 0
      },
      "text/plain": [
       "  0%|          | 0/100 [00:00<?, ?it/s]"
      ]
     },
     "metadata": {},
     "output_type": "display_data"
    },
    {
     "data": {
      "application/vnd.jupyter.widget-view+json": {
       "model_id": "952e67f5310242d3874ecef62ed06a11",
       "version_major": 2,
       "version_minor": 0
      },
      "text/plain": [
       "  0%|          | 0/100 [00:00<?, ?it/s]"
      ]
     },
     "metadata": {},
     "output_type": "display_data"
    },
    {
     "data": {
      "application/vnd.jupyter.widget-view+json": {
       "model_id": "379ea36fb33e486793dc37b99e8b5c38",
       "version_major": 2,
       "version_minor": 0
      },
      "text/plain": [
       "  0%|          | 0/100 [00:00<?, ?it/s]"
      ]
     },
     "metadata": {},
     "output_type": "display_data"
    },
    {
     "data": {
      "application/vnd.jupyter.widget-view+json": {
       "model_id": "d33c802cde4346b5a84bcf3e9d47aca6",
       "version_major": 2,
       "version_minor": 0
      },
      "text/plain": [
       "  0%|          | 0/100 [00:00<?, ?it/s]"
      ]
     },
     "metadata": {},
     "output_type": "display_data"
    },
    {
     "data": {
      "application/vnd.jupyter.widget-view+json": {
       "model_id": "dd850fce81cf4e57a9bf335a84f60e1d",
       "version_major": 2,
       "version_minor": 0
      },
      "text/plain": [
       "  0%|          | 0/100 [00:00<?, ?it/s]"
      ]
     },
     "metadata": {},
     "output_type": "display_data"
    },
    {
     "data": {
      "application/vnd.jupyter.widget-view+json": {
       "model_id": "27d9ccd63fa941a99ac8dec9c37e0de5",
       "version_major": 2,
       "version_minor": 0
      },
      "text/plain": [
       "  0%|          | 0/100 [00:00<?, ?it/s]"
      ]
     },
     "metadata": {},
     "output_type": "display_data"
    },
    {
     "data": {
      "application/vnd.jupyter.widget-view+json": {
       "model_id": "d30cbd575d0a43ffb90c2c2481413b8f",
       "version_major": 2,
       "version_minor": 0
      },
      "text/plain": [
       "  0%|          | 0/70 [00:00<?, ?it/s]"
      ]
     },
     "metadata": {},
     "output_type": "display_data"
    }
   ],
   "source": [
    "# selenium의 webdriver를 사용하기 위한 import\n",
    "from selenium import webdriver\n",
    "\n",
    "# selenium으로 키를 조작하기 위한 import\n",
    "from selenium.webdriver.common.keys import Keys\n",
    "from selenium.webdriver.common.by import By\n",
    "from selenium.webdriver.support.ui import WebDriverWait\n",
    "from selenium.webdriver.support import expected_conditions as EC\n",
    "\n",
    "# 페이지 로딩을 기다리는데에 사용할 time 모듈 import\n",
    "import time\n",
    "from tqdm.notebook import tqdm\n",
    "import pandas as pd\n",
    "\n",
    "# 크롬드라이버 옵션 (창 안보이게 숨기기)\n",
    "driver_option = webdriver.ChromeOptions()\n",
    "driver_option.add_argument('headless')\n",
    "driver = webdriver.Chrome(options=driver_option) \n",
    "driver.implicitly_wait(3)\n",
    "\n",
    "try:\n",
    "    # 크롬드라이버 실행\n",
    "    driver = webdriver.Chrome(options=driver_option) \n",
    "    driver.implicitly_wait(3)\n",
    "\n",
    "    gachon_user_tier = []\n",
    "\n",
    "    driver.get('https://www.acmicpc.net/school/ranklist/187')\n",
    "    time.sleep(3)\n",
    "\n",
    "    page_elem = driver.find_elements(by=By.XPATH, value=\"(//ul[@class='pagination']/li/a)[position()>1]\")\n",
    "    MAX_PAGE = max([int(elem.get_attribute('href').split(\"/\")[-1]) for elem in page_elem])\n",
    "\n",
    "\n",
    "    for page in tqdm(range(MAX_PAGE)):\n",
    "        driver.get(f'https://www.acmicpc.net/school/ranklist/187/{page + 1}')\n",
    "        time.sleep(3)\n",
    "\n",
    "        gachon_user_elem = driver.find_elements(by=By.CSS_SELECTOR, value='#ranklist > tbody > tr > td:nth-child(2) > a')\n",
    "        user_list = [user_elem.get_attribute('href').split(\"/\")[-1] for user_elem in gachon_user_elem] # 현재 page의 가천대학교 학생 목록\n",
    "\n",
    "        pbar = tqdm(user_list)\n",
    "        for user_name in pbar:\n",
    "            driver.get(f'https://www.acmicpc.net/user/{user_name}')  # 백준 유저 정보 페이지 접속\n",
    "            WebDriverWait(driver, 3).until(\n",
    "                EC.presence_of_element_located((By.XPATH, \"//*[@class='page-header']/h1\"))\n",
    "            )\n",
    "\n",
    "            try:\n",
    "                solvedac_tier_img_tag = driver.find_element(by=By.XPATH, value=\"//*[@class='page-header']/h1/a/img\")\n",
    "                solvedac_tier_tag_src = solvedac_tier_img_tag.get_attribute('src').split(\"/\")[-1]\n",
    "                solvedac_tier_num = solvedac_tier_tag_src.split(\".\")[0]\n",
    "                pbar.set_postfix(name=user_name, tier=solvedac_tier_num, refresh=True)\n",
    "                gachon_user_tier.append([user_name, solvedac_tier_num])\n",
    "            except:\n",
    "                gachon_user_tier.append([user_name, 0])\n",
    "\n",
    "finally:\n",
    "    driver.quit()\n",
    "\n",
    "# -- csv 파일로 저장\n",
    "column_name = ['user_id', 'tier']\n",
    "gachon_user_df = pd.DataFrame(data=gachon_user_tier, columns=column_name)\n",
    "gachon_user_df.to_csv(\"./gachon_user_tier.csv\", index=False)"
   ]
  },
  {
   "cell_type": "code",
   "execution_count": 14,
   "metadata": {},
   "outputs": [],
   "source": [
    "gachon_user_df.loc[gachon_user_df['tier'] == '-1', 'tier'] = '0'\n",
    "gachon_user_df.to_csv(\"./gachon_user_tier.csv\", index=False)"
   ]
  },
  {
   "cell_type": "code",
   "execution_count": 15,
   "metadata": {},
   "outputs": [
    {
     "data": {
      "text/plain": [
       "array(['21', '22', '14', '20', '17', '18', '13', '16', '24', 0, '15',\n",
       "       '12', '10', '11', '9', '7', '6', '8', '0', '5', '4', '3', '2', '1'],\n",
       "      dtype=object)"
      ]
     },
     "execution_count": 15,
     "metadata": {},
     "output_type": "execute_result"
    }
   ],
   "source": [
    "gachon_user_df['tier'].unique()"
   ]
  },
  {
   "cell_type": "code",
   "execution_count": null,
   "metadata": {},
   "outputs": [],
   "source": []
  }
 ],
 "metadata": {
  "kernelspec": {
   "display_name": "Machine-Learning-PyCharm",
   "language": "python",
   "name": "python3"
  },
  "language_info": {
   "codemirror_mode": {
    "name": "ipython",
    "version": 3
   },
   "file_extension": ".py",
   "mimetype": "text/x-python",
   "name": "python",
   "nbconvert_exporter": "python",
   "pygments_lexer": "ipython3",
   "version": "3.8.17"
  }
 },
 "nbformat": 4,
 "nbformat_minor": 2
}
